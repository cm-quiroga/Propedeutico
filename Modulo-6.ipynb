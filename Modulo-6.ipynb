{
 "cells": [
  {
   "cell_type": "code",
   "execution_count": 48,
   "metadata": {},
   "outputs": [
    {
     "name": "stdout",
     "output_type": "stream",
     "text": [
      "La Earth es el tercer planeta.\n",
      "Saturno es conocido tambien como: planeta de los anillos\n",
      "['Mercury', 'Venus', 'Earth', 'Mars', 'Jupiter', 'planeta de los anillos', 'Uranus', 'Neptune']\n",
      "El sistema solar tiene 8 planetas. \n"
     ]
    }
   ],
   "source": [
    "# Listas\n",
    "planets = ['Mercury', 'Venus', 'Earth', 'Mars', 'Jupiter', 'Saturn', 'Uranus', 'Neptune']\n",
    "print(f\"La {planets[2]} es el tercer planeta.\")\n",
    "planets[5] = 'planeta de los anillos'\n",
    "print(f\"Saturno es conocido tambien como: {planets[5]}\")\n",
    "print(planets)\n",
    "print(f\"El sistema solar tiene {len(planets)} planetas. \")"
   ]
  },
  {
   "cell_type": "code",
   "execution_count": 20,
   "metadata": {},
   "outputs": [
    {
     "name": "stdout",
     "output_type": "stream",
     "text": [
      "['Mercury', 'Venus', 'Earth', 'Mars', 'Jupiter', 'planeta de los anillos', 'Uranus', 'Neptune', 'Pluton']\n"
     ]
    }
   ],
   "source": [
    "# Agregar valores a listas .append\n",
    "planets.append('Pluton')\n",
    "print(planets)"
   ]
  },
  {
   "cell_type": "code",
   "execution_count": 24,
   "metadata": {},
   "outputs": [
    {
     "name": "stdout",
     "output_type": "stream",
     "text": [
      "['Mercury', 'Mars', 'Jupiter', 'planeta de los anillos', 'Neptune']\n"
     ]
    }
   ],
   "source": [
    "# Eliminar valores de una lista\n",
    "planets.pop(-2)\n",
    "print(planets)"
   ]
  },
  {
   "cell_type": "code",
   "execution_count": 26,
   "metadata": {},
   "outputs": [
    {
     "name": "stdout",
     "output_type": "stream",
     "text": [
      "La Earth es el 3 planeta.\n"
     ]
    }
   ],
   "source": [
    "# Buscar un valor en una lista\n",
    "pposicion = planets.index('Earth')\n",
    "print(f'La {planets[pposicion]} es el {pposicion+1} planeta.')"
   ]
  },
  {
   "cell_type": "code",
   "execution_count": 30,
   "metadata": {},
   "outputs": [
    {
     "name": "stdout",
     "output_type": "stream",
     "text": [
      "Ese bus en Mercury pesa 4536.0 kilogramos.\n"
     ]
    }
   ],
   "source": [
    "# Almacenar números en listas\n",
    "gravity_on_planets = [0.378, 0.907, 1, 0.379, 2.36, 0.916, 0.889, 1.12]\n",
    "bus_peso = 12000\n",
    "pposicion = planets.index('Mercury')\n",
    "print(f'Ese bus en {planets[pposicion]} pesa {bus_peso*gravity_on_planets[pposicion]} kilogramos.')"
   ]
  },
  {
   "cell_type": "code",
   "execution_count": 50,
   "metadata": {},
   "outputs": [
    {
     "name": "stdout",
     "output_type": "stream",
     "text": [
      "El planeta con menos gravedad es Mercury, la cual es 0.378.\n",
      "El planeta con mayor gravedad es Jupiter, la cual es 2.36.\n"
     ]
    }
   ],
   "source": [
    "# min() y max () con listas\n",
    "planeta_min = gravity_on_planets.index(min(gravity_on_planets))\n",
    "planeta_max = gravity_on_planets.index(max(gravity_on_planets))\n",
    "print(f'El planeta con menos gravedad es {planets[planeta_min]}, la cual es {gravity_on_planets[planeta_min]}.')\n",
    "print(f'El planeta con mayor gravedad es {planets[planeta_max]}, la cual es {gravity_on_planets[planeta_max]}.')\n"
   ]
  },
  {
   "cell_type": "code",
   "execution_count": 7,
   "metadata": {},
   "outputs": [
    {
     "name": "stdout",
     "output_type": "stream",
     "text": [
      "['Mercury', 'Venus', 'Earth', 'Mars']\n"
     ]
    }
   ],
   "source": [
    "# Manipular datos de lista\n",
    "planets = ['Mercury', 'Venus', 'Earth', 'Mars', 'Jupiter', 'Saturn', 'Uranus', 'Neptune']\n",
    "seleccion_planetas = planets[0:4]\n",
    "print(seleccion_planetas)"
   ]
  },
  {
   "cell_type": "code",
   "execution_count": 4,
   "metadata": {},
   "outputs": [
    {
     "name": "stdout",
     "output_type": "stream",
     "text": [
      "['Metis', 'Adrastea', 'Amalthea', 'Thebe', 'Io', 'Europa', 'Ganymede', 'Callisto']\n",
      "['Metis', 'Adrastea', 'Amalthea', 'Thebe']\n",
      "['Io', 'Europa', 'Ganymede', 'Callisto']\n"
     ]
    }
   ],
   "source": [
    "# Uniendo listas\n",
    "amalthea_group = ['Metis', 'Adrastea', 'Amalthea', 'Thebe']\n",
    "galilean_moons = ['Io', 'Europa', 'Ganymede', 'Callisto']\n",
    "suma_grupos = amalthea_group + galilean_moons\n",
    "print(suma_grupos)\n",
    "print(suma_grupos[0:4])\n",
    "print(suma_grupos[4:8])"
   ]
  },
  {
   "cell_type": "code",
   "execution_count": 6,
   "metadata": {},
   "outputs": [
    {
     "name": "stdout",
     "output_type": "stream",
     "text": [
      "El nombre de las lunas del planeta jupiter son:  ['Adrastea', 'Amalthea', 'Callisto', 'Europa', 'Ganymede', 'Io', 'Metis', 'Thebe']\n",
      "El nombre de las lunas del planeta jupiter son:  ['Thebe', 'Metis', 'Io', 'Ganymede', 'Europa', 'Callisto', 'Amalthea', 'Adrastea']\n"
     ]
    }
   ],
   "source": [
    "# Ordenar listas\n",
    "suma_grupos.sort()\n",
    "print(\"El nombre de las lunas del planeta jupiter son: \" , suma_grupos)\n",
    "suma_grupos.sort(reverse=True)\n",
    "print(\"El nombre de las lunas del planeta jupiter son: \" , suma_grupos)"
   ]
  }
 ],
 "metadata": {
  "interpreter": {
   "hash": "a33de74e353dd2019ce878f939f1f5c12006663059a7eef1eae730f3d7c813d6"
  },
  "kernelspec": {
   "display_name": "Python 3.10.2 64-bit",
   "language": "python",
   "name": "python3"
  },
  "language_info": {
   "codemirror_mode": {
    "name": "ipython",
    "version": 3
   },
   "file_extension": ".py",
   "mimetype": "text/x-python",
   "name": "python",
   "nbconvert_exporter": "python",
   "pygments_lexer": "ipython3",
   "version": "3.10.2"
  },
  "orig_nbformat": 4
 },
 "nbformat": 4,
 "nbformat_minor": 2
}
