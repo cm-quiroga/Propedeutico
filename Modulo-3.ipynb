{
 "cells": [
  {
   "cell_type": "code",
   "execution_count": 4,
   "metadata": {},
   "outputs": [],
   "source": [
    "# Tip de practica 1\n",
    "a = 96\n",
    "b = 54\n",
    "if a < b:\n",
    "    print(b)"
   ]
  },
  {
   "cell_type": "code",
   "execution_count": 5,
   "metadata": {},
   "outputs": [
    {
     "name": "stdout",
     "output_type": "stream",
     "text": [
      "63\n"
     ]
    }
   ],
   "source": [
    "# Tip de practica 2\n",
    "a = 63\n",
    "b = 25\n",
    "if a >= b:\n",
    "    print(a)\n",
    "    "
   ]
  },
  {
   "cell_type": "code",
   "execution_count": 6,
   "metadata": {},
   "outputs": [
    {
     "name": "stdout",
     "output_type": "stream",
     "text": [
      "24\n"
     ]
    }
   ],
   "source": [
    "# Tip de la practica 1 y 2\n",
    "a = 46\n",
    "b = 24\n",
    "if b <= 0:\n",
    "    print(a)\n",
    "print(b)"
   ]
  },
  {
   "cell_type": "code",
   "execution_count": 7,
   "metadata": {},
   "outputs": [
    {
     "name": "stdout",
     "output_type": "stream",
     "text": [
      "46\n"
     ]
    }
   ],
   "source": [
    "# Tip de practica else y if\n",
    "a = 46\n",
    "b = 22\n",
    "if a >= b:\n",
    "    print(a)\n",
    "else:\n",
    "    print(b)"
   ]
  },
  {
   "cell_type": "code",
   "execution_count": 12,
   "metadata": {},
   "outputs": [
    {
     "name": "stdout",
     "output_type": "stream",
     "text": [
      "a es mayor o igual que b\n"
     ]
    }
   ],
   "source": [
    "# Tip de la practica elif\n",
    "a = 93\n",
    "b = 27\n",
    "if a >= b:\n",
    "    print(\"a es mayor o igual que b\")\n",
    "elif a == b:\n",
    "    print(\"a es igual que b\")"
   ]
  },
  {
   "cell_type": "code",
   "execution_count": 16,
   "metadata": {},
   "outputs": [
    {
     "name": "stdout",
     "output_type": "stream",
     "text": [
      "a es mayor que b\n"
     ]
    }
   ],
   "source": [
    "# Tip combinar declaraciones if, else y elif\n",
    "a = 96\n",
    "b = 26\n",
    "if a == b:\n",
    "    print(\"a es igual a b\")\n",
    "elif a > b:\n",
    "    print(\"a es mayor que b\")\n",
    "else:\n",
    "    print(\"a es menor que b\")\n",
    "\n"
   ]
  },
  {
   "cell_type": "code",
   "execution_count": 19,
   "metadata": {},
   "outputs": [
    {
     "name": "stdout",
     "output_type": "stream",
     "text": [
      "a es igual que b\n",
      "y a es igual que c\n"
     ]
    }
   ],
   "source": [
    "# Tip logica condicional anidada if, else y elif\n",
    "a = 28\n",
    "b = 28\n",
    "c = 28\n",
    "if a == b:\n",
    "    print(\"a es igual que b\")\n",
    "    if a > c:\n",
    "        print(\"y a es mayor que c\")\n",
    "    elif a < c:\n",
    "        print(\"y a es menor que c\")\n",
    "    else:\n",
    "        print(\"y a es igual que c\")\n",
    "elif a > b:\n",
    "    print(\"a es mayor que b\")\n",
    "    if a > c:\n",
    "        print(\"y a es mayor que c\")\n",
    "    elif a < c:\n",
    "        print(\"y a es menor que c\")\n",
    "    else:\n",
    "        print(\"y a es igual que c\")\n",
    "else:\n",
    "    print(\"a es menor que b\")\n",
    "    if a > c:\n",
    "        print(\"y a es mayor que c\")\n",
    "    elif a < c:\n",
    "        print(\"y a es menor que c\")\n",
    "    else:\n",
    "        print(\"y a es igual que c\")"
   ]
  },
  {
   "cell_type": "code",
   "execution_count": 21,
   "metadata": {},
   "outputs": [
    {
     "name": "stdout",
     "output_type": "stream",
     "text": [
      "36\n"
     ]
    }
   ],
   "source": [
    "# Tip practica del operador and\n",
    "a = 12\n",
    "b = 24\n",
    "if a == 12 and b != 22:\n",
    "    print(a + b)"
   ]
  },
  {
   "cell_type": "code",
   "execution_count": 24,
   "metadata": {},
   "outputs": [
    {
     "name": "stdout",
     "output_type": "stream",
     "text": [
      "-12\n"
     ]
    }
   ],
   "source": [
    "# Tip practica del operador or\n",
    "a = 10\n",
    "b = 22\n",
    "if a < 14 or b >= 22:\n",
    "    print(a - b)"
   ]
  }
 ],
 "metadata": {
  "interpreter": {
   "hash": "a33de74e353dd2019ce878f939f1f5c12006663059a7eef1eae730f3d7c813d6"
  },
  "kernelspec": {
   "display_name": "Python 3.10.2 64-bit",
   "language": "python",
   "name": "python3"
  },
  "language_info": {
   "codemirror_mode": {
    "name": "ipython",
    "version": 3
   },
   "file_extension": ".py",
   "mimetype": "text/x-python",
   "name": "python",
   "nbconvert_exporter": "python",
   "pygments_lexer": "ipython3",
   "version": "3.10.2"
  },
  "orig_nbformat": 4
 },
 "nbformat": 4,
 "nbformat_minor": 2
}
