{
 "cells": [
  {
   "cell_type": "code",
   "execution_count": 15,
   "metadata": {},
   "outputs": [
    {
     "name": "stdout",
     "output_type": "stream",
     "text": [
      "80.0\n",
      "14\n",
      "2\n",
      "100\n",
      "256\n",
      "16.8\n",
      "16\n"
     ]
    }
   ],
   "source": [
    "# Operadores matematicos\n",
    "operacion = (100/15 + 20) * 3\n",
    "print(operacion)\n",
    "\n",
    "# Parte entera y parte decimal\n",
    "print(100//7) # parte entera\n",
    "print(100%7)  # parte decimal\n",
    "\n",
    "# valor absoluto abs\n",
    "print(abs(-100))\n",
    "print(int('256'))\n",
    "print(float('16.8'))\n",
    "print(int(16.4))\n"
   ]
  },
  {
   "cell_type": "code",
   "execution_count": 1,
   "metadata": {},
   "outputs": [
    {
     "name": "stdout",
     "output_type": "stream",
     "text": [
      "16\n",
      "16.4\n",
      "19\n",
      "18\n"
     ]
    }
   ],
   "source": [
    "# Redondeo\n",
    "from math import ceil, floor\n",
    "print(round(16.36))\n",
    "print(round(16.36,1))\n",
    "print(ceil(18.96))\n",
    "print(floor(18.96))"
   ]
  },
  {
   "cell_type": "code",
   "execution_count": null,
   "metadata": {},
   "outputs": [],
   "source": []
  }
 ],
 "metadata": {
  "interpreter": {
   "hash": "a33de74e353dd2019ce878f939f1f5c12006663059a7eef1eae730f3d7c813d6"
  },
  "kernelspec": {
   "display_name": "Python 3.10.2 64-bit",
   "language": "python",
   "name": "python3"
  },
  "language_info": {
   "codemirror_mode": {
    "name": "ipython",
    "version": 3
   },
   "file_extension": ".py",
   "mimetype": "text/x-python",
   "name": "python",
   "nbconvert_exporter": "python",
   "pygments_lexer": "ipython3",
   "version": "3.10.2"
  },
  "orig_nbformat": 4
 },
 "nbformat": 4,
 "nbformat_minor": 2
}
