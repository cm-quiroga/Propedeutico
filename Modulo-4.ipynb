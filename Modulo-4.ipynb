{
 "cells": [
  {
   "cell_type": "code",
   "execution_count": 5,
   "metadata": {},
   "outputs": [
    {
     "name": "stdout",
     "output_type": "stream",
     "text": [
      "The Cielo's house.\n",
      "Yo me llamo \"Cielo\".\n",
      "Yo me llamo\n",
      "Cielo\n",
      "Quiroga\n",
      "Yo me llamo \n",
      "Cielo\n",
      "Quiroga\n"
     ]
    }
   ],
   "source": [
    "# Practica texto multilinea\n",
    "print(\"The Cielo's house.\")\n",
    "print('Yo me llamo \"Cielo\".')\n",
    "print(\"Yo me llamo\\nCielo\\nQuiroga\")\n",
    "print(\"\"\"Yo me llamo \n",
    "Cielo\n",
    "Quiroga\"\"\")"
   ]
  },
  {
   "cell_type": "code",
   "execution_count": 7,
   "metadata": {},
   "outputs": [
    {
     "data": {
      "text/plain": [
       "'Cielo Quiroga'"
      ]
     },
     "execution_count": 7,
     "metadata": {},
     "output_type": "execute_result"
    }
   ],
   "source": [
    "# Metodos string\n",
    "name = 'cielo quiroga'\n",
    "name.title()\n"
   ]
  },
  {
   "cell_type": "code",
   "execution_count": 16,
   "metadata": {},
   "outputs": [
    {
     "name": "stdout",
     "output_type": "stream",
     "text": [
      "['cielo', 'quiroga']\n",
      "['ciel', ' quir', 'ga']\n"
     ]
    },
    {
     "data": {
      "text/plain": [
       "['El bosque', 'es hermoso']"
      ]
     },
     "execution_count": 16,
     "metadata": {},
     "output_type": "execute_result"
    }
   ],
   "source": [
    "# Separar string(cadena)\n",
    "name = 'cielo quiroga'\n",
    "print(name.split())\n",
    "print(name.split('o'))\n",
    "subname = \"El bosque\\nes hermoso\"\n",
    "subname.split('\\n')\n"
   ]
  },
  {
   "cell_type": "code",
   "execution_count": 13,
   "metadata": {},
   "outputs": [
    {
     "name": "stdout",
     "output_type": "stream",
     "text": [
      "True\n",
      "17\n",
      "-1\n",
      "4\n"
     ]
    }
   ],
   "source": [
    "# Buscar una cadena\n",
    " # Usando in - .lower cambia de mayusculas a minusculas\n",
    "Frase ='La maravilla mas grande de la naturaleza es la tierra'\n",
    "print('Tierra'.lower() in Frase) \n",
    "\n",
    "# Usando .find() Encuentra la posicion de una palabra\n",
    "print(Frase.find('grande'))\n",
    "print(Frase.find('grande'.upper()))\n",
    "\n",
    "# Usando .count() -  cuenta la cantidad de apariciones de una palabra dentro de la cadena\n",
    "print(Frase.lower().count('la'))"
   ]
  },
  {
   "cell_type": "code",
   "execution_count": 23,
   "metadata": {},
   "outputs": [
    {
     "name": "stdout",
     "output_type": "stream",
     "text": [
      " -30 °C\n",
      "-30\n",
      "°C\n"
     ]
    }
   ],
   "source": [
    "# Comprobar contenido\n",
    "oracion = 'La temperatura es: -30 °C'\n",
    "caja = oracion.split(':')\n",
    "print(caja[-1])\n",
    "\n",
    "# Ciclo con for\n",
    "for piedra in oracion.split():\n",
    "    if piedra.isnumeric():\n",
    "        print(piedra)\n",
    "    if piedra.endswith('C'):\n",
    "        print(piedra)\n",
    "    if piedra.startswith('-'):\n",
    "        print(piedra)\n",
    "\n"
   ]
  },
  {
   "cell_type": "code",
   "execution_count": 34,
   "metadata": {},
   "outputs": [
    {
     "name": "stdout",
     "output_type": "stream",
     "text": [
      "me gusta viajar 30 kilometros y 60 kilometros al otro dia.\n",
      "Las cosas que me gustan: comer dormir soñar\n"
     ]
    }
   ],
   "source": [
    "# Transformar texto\n",
    "viaje ='Me gusta viajar 30Km y 60km al otro dia.'\n",
    "print(viaje.lower().replace('km',' kilometros'))\n",
    "\n",
    "# Usando join = unir\n",
    "lista = ['Las cosas que me gustan:','comer','dormir','soñar']\n",
    "print(' '.join(lista))\n"
   ]
  },
  {
   "cell_type": "code",
   "execution_count": 46,
   "metadata": {},
   "outputs": [
    {
     "name": "stdout",
     "output_type": "stream",
     "text": [
      "El carro es economico y vale 3600 dolares.\n",
      "El carro pesa 1000 kg y vale 3600 dolares, pero no siempre pesa 1000 kg ni vale 3600 dolares.\n",
      "El carro es economico y vale 3600 dolares.\n",
      "El carro pesa 1000 kg y vale 3600 dolares, pero no siempre pesa 1000 kg ni vale 3600 dolares.\n",
      "El carro pesa 1000 kg y vale 3600 dolares, pero no siempre pesa 1000 kg ni vale 3600 dolares.\n",
      "El carro es economico y vale 3600 dolares.\n",
      "El carro es economico y vale 3600 dolares, a veces tiene un descuento de 0.72\n",
      "El nombre de la ultima pelicula es: El Justiciero Famoso\n"
     ]
    }
   ],
   "source": [
    "# Formato de cadenas en python\n",
    "# Formato con signo de porcentaje %\n",
    "carro = 3600\n",
    "print('El carro es economico y vale %s dolares.' % carro)\n",
    "print('El carro pesa %s kg y vale %s dolares, pero no siempre pesa %s kg ni vale %s dolares.' %(1000, carro, 1000, carro))\n",
    "\n",
    "# Formato con .format\n",
    "print('El carro es economico y vale {} dolares.'.format(carro))\n",
    "print('El carro pesa {0} kg y vale {1} dolares, pero no siempre pesa {0} kg ni vale {1} dolares.'.format(1000, carro))\n",
    "print('El carro pesa {peso} kg y vale {valor} dolares, pero no siempre pesa {peso} kg ni vale {valor} dolares.'.format(peso = 1000, valor =carro))\n",
    "\n",
    "# Acerca de las cadenas con f\n",
    "print(f'El carro es economico y vale {carro} dolares.')\n",
    "print(f'El carro es economico y vale {carro} dolares, a veces tiene un descuento de {round(carro/5000, 2)}')\n",
    "pelicula = 'El justiciero famoso'\n",
    "print(f'El nombre de la ultima pelicula es: {pelicula.title()}')\n"
   ]
  }
 ],
 "metadata": {
  "interpreter": {
   "hash": "a33de74e353dd2019ce878f939f1f5c12006663059a7eef1eae730f3d7c813d6"
  },
  "kernelspec": {
   "display_name": "Python 3.10.2 64-bit",
   "language": "python",
   "name": "python3"
  },
  "language_info": {
   "codemirror_mode": {
    "name": "ipython",
    "version": 3
   },
   "file_extension": ".py",
   "mimetype": "text/x-python",
   "name": "python",
   "nbconvert_exporter": "python",
   "pygments_lexer": "ipython3",
   "version": "3.10.2"
  },
  "orig_nbformat": 4
 },
 "nbformat": 4,
 "nbformat_minor": 2
}
